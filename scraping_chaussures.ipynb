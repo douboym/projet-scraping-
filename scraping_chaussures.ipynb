{
 "cells": [
  {
   "cell_type": "code",
   "execution_count": 1,
   "id": "2e9694e2-0f87-4c2b-93cf-23bfa56a36ce",
   "metadata": {},
   "outputs": [],
   "source": [
    "import requests\n",
    "from bs4 import BeautifulSoup"
   ]
  },
  {
   "cell_type": "code",
   "execution_count": 2,
   "id": "0eae56a6-2d9a-41ec-be04-8e20894b1bdb",
   "metadata": {},
   "outputs": [],
   "source": [
    "import pandas as pd"
   ]
  },
  {
   "cell_type": "code",
   "execution_count": 3,
   "id": "ab4e6660-81f3-4857-937b-e14631ca0e02",
   "metadata": {},
   "outputs": [],
   "source": [
    "\n",
    "# Fonction pour scraper les produits d'une catégorie donnée (homme ou femme)\n",
    "def scrape_shoes_category(url, gender, max_pages, max_items=None):\n",
    "    all_products = []\n",
    "    \n",
    "    for page in range(1, max_pages + 1):  # Boucler sur chaque page\n",
    "        # Modifier l'URL pour inclure le numéro de page\n",
    "        page_url = f\"{url}&page={page}\"\n",
    "        response = requests.get(page_url)\n",
    "        \n",
    "        if response.status_code != 200:\n",
    "            print(f\"Erreur de connexion à {page_url}\")\n",
    "            continue\n",
    "        \n",
    "        # Parser la page\n",
    "        soup = BeautifulSoup(response.text, 'html.parser')\n",
    "\n",
    "        # Trouver tous les éléments contenant les produits\n",
    "        product_containers = soup.find_all('li', class_='musheji_name')  # Utilisation de la classe spécifique\n",
    "        \n",
    "        for container in product_containers:\n",
    "            # Récupérer le nom du produit à partir de l'attribut 'title' de la balise <a>\n",
    "            name = container.find('a')['title']  # Le nom du produit\n",
    "            # Récupérer le prix à partir de la classe 'productSpecialPrice'\n",
    "            price_tag = container.find_next('span', class_='productSpecialPrice')\n",
    "            if price_tag:\n",
    "                price = price_tag.text.strip()  # Nettoyer le prix\n",
    "            else:\n",
    "                price = \"N/A\"  # Si le prix n'est pas disponible\n",
    "\n",
    "            all_products.append({'name': name, 'price': price, 'gender': gender})\n",
    "    \n",
    "    return all_products\n",
    "\n",
    "# URL des pages de chaussures pour hommes et femmes\n",
    "women_url = 'https://shopping.louboutin2024.com/index.php?main_page=index&cPath=2'\n",
    "men_url = 'https://shopping.louboutin2024.com/index.php?main_page=index&cPath=155'\n",
    "bebes_url = 'https://shopping.louboutin2024.com/index.php?main_page=index&cPath=232'\n",
    "filles_url = 'https://shopping.louboutin2024.com/index.php?main_page=index&cPath=236'\n",
    "cadeaux_homme_url = 'https://shopping.louboutin2024.com/index.php?main_page=index&cPath=175'\n",
    "cadeaux_femme_url = 'https://shopping.louboutin2024.com/index.php?main_page=index&cPath=55'\n",
    "\n",
    "# Scraper les données pour chaque catégorie\n",
    "women_shoes = scrape_shoes_category(women_url, 'Femme', max_pages=16)\n",
    "men_shoes = scrape_shoes_category(men_url, 'Homme', max_pages=7)\n",
    "bebes_shoes = scrape_shoes_category(bebes_url, 'Bébé', max_pages=2)  \n",
    "filles_shoes = scrape_shoes_category(filles_url, 'Fille', max_pages=2)  \n",
    "cadeaux_homme = scrape_shoes_category(cadeaux_homme_url, 'Cadeau Homme', max_pages=3, max_items=47)\n",
    "cadeaux_femme = scrape_shoes_category(cadeaux_femme_url, 'Cadeau Femme', max_pages=2, max_items=15)\n"
   ]
  },
  {
   "cell_type": "code",
   "execution_count": 4,
   "id": "6eac66fc-565b-46d5-9342-7e10b63873cc",
   "metadata": {},
   "outputs": [
    {
     "data": {
      "text/html": [
       "<div>\n",
       "<style scoped>\n",
       "    .dataframe tbody tr th:only-of-type {\n",
       "        vertical-align: middle;\n",
       "    }\n",
       "\n",
       "    .dataframe tbody tr th {\n",
       "        vertical-align: top;\n",
       "    }\n",
       "\n",
       "    .dataframe thead th {\n",
       "        text-align: right;\n",
       "    }\n",
       "</style>\n",
       "<table border=\"1\" class=\"dataframe\">\n",
       "  <thead>\n",
       "    <tr style=\"text-align: right;\">\n",
       "      <th></th>\n",
       "      <th>name</th>\n",
       "      <th>price</th>\n",
       "      <th>gender</th>\n",
       "    </tr>\n",
       "  </thead>\n",
       "  <tbody>\n",
       "    <tr>\n",
       "      <th>0</th>\n",
       "      <td>So CL Mule Mules 55 mm - Cuir nappa - Bianco -...</td>\n",
       "      <td>€59.00</td>\n",
       "      <td>Femme</td>\n",
       "    </tr>\n",
       "    <tr>\n",
       "      <th>1</th>\n",
       "      <td>So CL Mule Mules 55 mm - Cuir de veau - Noir -...</td>\n",
       "      <td>€55.00</td>\n",
       "      <td>Femme</td>\n",
       "    </tr>\n",
       "    <tr>\n",
       "      <th>2</th>\n",
       "      <td>So CL Mule Mules 55 mm - Cuir de veau - Leche ...</td>\n",
       "      <td>€55.00</td>\n",
       "      <td>Femme</td>\n",
       "    </tr>\n",
       "    <tr>\n",
       "      <th>3</th>\n",
       "      <td>So CL Mule Mules 55 mm - Cuir de veau - Cuoio ...</td>\n",
       "      <td>€57.00</td>\n",
       "      <td>Femme</td>\n",
       "    </tr>\n",
       "    <tr>\n",
       "      <th>4</th>\n",
       "      <td>CL Mule Mules - Cuir de veau - Leche - Femme</td>\n",
       "      <td>€57.00</td>\n",
       "      <td>Femme</td>\n",
       "    </tr>\n",
       "    <tr>\n",
       "      <th>5</th>\n",
       "      <td>CL Mule Mules - Cuir de veau - Noir - Femme</td>\n",
       "      <td>€57.00</td>\n",
       "      <td>Femme</td>\n",
       "    </tr>\n",
       "    <tr>\n",
       "      <th>6</th>\n",
       "      <td>CL Mule Mules - Cuir nappa - Bianco - Femme</td>\n",
       "      <td>€56.00</td>\n",
       "      <td>Femme</td>\n",
       "    </tr>\n",
       "  </tbody>\n",
       "</table>\n",
       "</div>"
      ],
      "text/plain": [
       "                                                name   price gender\n",
       "0  So CL Mule Mules 55 mm - Cuir nappa - Bianco -...  €59.00  Femme\n",
       "1  So CL Mule Mules 55 mm - Cuir de veau - Noir -...  €55.00  Femme\n",
       "2  So CL Mule Mules 55 mm - Cuir de veau - Leche ...  €55.00  Femme\n",
       "3  So CL Mule Mules 55 mm - Cuir de veau - Cuoio ...  €57.00  Femme\n",
       "4       CL Mule Mules - Cuir de veau - Leche - Femme  €57.00  Femme\n",
       "5        CL Mule Mules - Cuir de veau - Noir - Femme  €57.00  Femme\n",
       "6        CL Mule Mules - Cuir nappa - Bianco - Femme  €56.00  Femme"
      ]
     },
     "execution_count": 4,
     "metadata": {},
     "output_type": "execute_result"
    }
   ],
   "source": [
    "all_products = women_shoes + men_shoes + bebes_shoes + filles_shoes + cadeaux_homme + cadeaux_femme\n",
    "\n",
    "# Créer un DataFrame Pandas avec les données\n",
    "df = pd.DataFrame(all_products)\n",
    "df.head(7)"
   ]
  },
  {
   "cell_type": "code",
   "execution_count": 5,
   "id": "50b186ed-7299-443e-95c2-13bb19dff578",
   "metadata": {},
   "outputs": [],
   "source": [
    "# Séparer les colonnes en 'collection', 'product_name', et 'sexe'\n",
    "df[['collection', 'product_name']] = df['name'].str.split(' - ', expand=True, n=1)  # Diviser une première fois en deux parties\n",
    "df['sexe'] = df['name'].str.rsplit(' - ', n=1).str[-1]  # Récupérer le dernier élément après le dernier tiret\n"
   ]
  },
  {
   "cell_type": "code",
   "execution_count": 6,
   "id": "0a05309a-b07b-49b5-b229-d7e21b5a0c17",
   "metadata": {},
   "outputs": [
    {
     "data": {
      "text/plain": [
       "name            0\n",
       "price           0\n",
       "gender          0\n",
       "collection      0\n",
       "product_name    1\n",
       "sexe            0\n",
       "dtype: int64"
      ]
     },
     "execution_count": 6,
     "metadata": {},
     "output_type": "execute_result"
    }
   ],
   "source": [
    "df.isnull().sum()"
   ]
  },
  {
   "cell_type": "code",
   "execution_count": 7,
   "id": "da9eb447-0b77-44ce-9024-627a58b1f3be",
   "metadata": {},
   "outputs": [
    {
     "data": {
      "text/html": [
       "<div>\n",
       "<style scoped>\n",
       "    .dataframe tbody tr th:only-of-type {\n",
       "        vertical-align: middle;\n",
       "    }\n",
       "\n",
       "    .dataframe tbody tr th {\n",
       "        vertical-align: top;\n",
       "    }\n",
       "\n",
       "    .dataframe thead th {\n",
       "        text-align: right;\n",
       "    }\n",
       "</style>\n",
       "<table border=\"1\" class=\"dataframe\">\n",
       "  <thead>\n",
       "    <tr style=\"text-align: right;\">\n",
       "      <th></th>\n",
       "      <th>name</th>\n",
       "      <th>price</th>\n",
       "      <th>gender</th>\n",
       "      <th>collection</th>\n",
       "      <th>product_name</th>\n",
       "      <th>sexe</th>\n",
       "    </tr>\n",
       "  </thead>\n",
       "  <tbody>\n",
       "    <tr>\n",
       "      <th>count</th>\n",
       "      <td>488</td>\n",
       "      <td>488</td>\n",
       "      <td>488</td>\n",
       "      <td>488</td>\n",
       "      <td>487</td>\n",
       "      <td>488</td>\n",
       "    </tr>\n",
       "    <tr>\n",
       "      <th>unique</th>\n",
       "      <td>476</td>\n",
       "      <td>8</td>\n",
       "      <td>6</td>\n",
       "      <td>233</td>\n",
       "      <td>264</td>\n",
       "      <td>30</td>\n",
       "    </tr>\n",
       "    <tr>\n",
       "      <th>top</th>\n",
       "      <td>Lou Babe Ballerines - Crêpe satin - Loubi - Bébés</td>\n",
       "      <td>€55.00</td>\n",
       "      <td>Femme</td>\n",
       "      <td>Lou Babe Ballerines</td>\n",
       "      <td>Cuir de veau - Noir - Femme</td>\n",
       "      <td>Femme</td>\n",
       "    </tr>\n",
       "    <tr>\n",
       "      <th>freq</th>\n",
       "      <td>2</td>\n",
       "      <td>101</td>\n",
       "      <td>252</td>\n",
       "      <td>12</td>\n",
       "      <td>26</td>\n",
       "      <td>259</td>\n",
       "    </tr>\n",
       "  </tbody>\n",
       "</table>\n",
       "</div>"
      ],
      "text/plain": [
       "                                                     name   price gender  \\\n",
       "count                                                 488     488    488   \n",
       "unique                                                476       8      6   \n",
       "top     Lou Babe Ballerines - Crêpe satin - Loubi - Bébés  €55.00  Femme   \n",
       "freq                                                    2     101    252   \n",
       "\n",
       "                 collection                 product_name   sexe  \n",
       "count                   488                          487    488  \n",
       "unique                  233                          264     30  \n",
       "top     Lou Babe Ballerines  Cuir de veau - Noir - Femme  Femme  \n",
       "freq                     12                           26    259  "
      ]
     },
     "execution_count": 7,
     "metadata": {},
     "output_type": "execute_result"
    }
   ],
   "source": [
    "df.describe()"
   ]
  },
  {
   "cell_type": "code",
   "execution_count": 8,
   "id": "f437ff33-bb92-48de-b09c-6d08d4846a04",
   "metadata": {},
   "outputs": [],
   "source": [
    "# Nettoyer les prix (enlever le symbole € et convertir en float)\n",
    "df['price'] = df['price'].replace('€', '', regex=True)\n",
    "df['price'] = df['price'].replace(',', '.', regex=True)\n",
    "\n",
    "# Convertir les prix en float, les erreurs seront transformées en NaN\n",
    "df['price'] = pd.to_numeric(df['price'], errors='coerce')"
   ]
  },
  {
   "cell_type": "code",
   "execution_count": 9,
   "id": "04349634-b115-44ed-90b3-ee7be10d55ca",
   "metadata": {},
   "outputs": [
    {
     "name": "stdout",
     "output_type": "stream",
     "text": [
      "Prix moyen des produits : 55.63 €\n"
     ]
    }
   ],
   "source": [
    "# Calcul du prix moyen\n",
    "average_price = df['price'].mean()\n",
    "\n",
    "# Afficher le prix moyen\n",
    "print(f\"Prix moyen des produits : {average_price:.2f} €\")"
   ]
  },
  {
   "cell_type": "code",
   "execution_count": 10,
   "id": "ef697726-4201-49c5-b19b-ffc8c6e4d0c2",
   "metadata": {},
   "outputs": [
    {
     "name": "stdout",
     "output_type": "stream",
     "text": [
      "Nombre de produits par genre :\n",
      "gender\n",
      "Femme           252\n",
      "Homme           101\n",
      "Cadeau Homme     48\n",
      "Cadeau Femme     32\n",
      "Fille            31\n",
      "Bébé             24\n",
      "Name: count, dtype: int64\n"
     ]
    }
   ],
   "source": [
    "# Calcul du nombre de produits par genre\n",
    "product_count_by_gender = df['gender'].value_counts()\n",
    "print(f\"Nombre de produits par genre :\\n{product_count_by_gender}\")"
   ]
  },
  {
   "cell_type": "code",
   "execution_count": null,
   "id": "2621cb1c-9ec8-4811-ad51-67e480199a5f",
   "metadata": {},
   "outputs": [],
   "source": []
  },
  {
   "cell_type": "code",
   "execution_count": null,
   "id": "e974acb1-fafc-4cce-960e-08eb992ad50e",
   "metadata": {},
   "outputs": [],
   "source": []
  }
 ],
 "metadata": {
  "kernelspec": {
   "display_name": "Python 3 (ipykernel)",
   "language": "python",
   "name": "python3"
  },
  "language_info": {
   "codemirror_mode": {
    "name": "ipython",
    "version": 3
   },
   "file_extension": ".py",
   "mimetype": "text/x-python",
   "name": "python",
   "nbconvert_exporter": "python",
   "pygments_lexer": "ipython3",
   "version": "3.12.4"
  }
 },
 "nbformat": 4,
 "nbformat_minor": 5
}
